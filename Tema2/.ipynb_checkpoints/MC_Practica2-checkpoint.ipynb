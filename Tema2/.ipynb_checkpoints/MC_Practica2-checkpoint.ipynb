{
 "cells": [
  {
   "cell_type": "markdown",
   "id": "052fba22",
   "metadata": {},
   "source": [
    "---\n",
    "<a name='title'></a>\n",
    "# **<font color=\"Navy\"> Modelación Climática </font>**\n",
    "## **<font color=\"RoyalBlue\"> Práctica 2: Introducción a la modelación numérica </font>**\n",
    "### Escuela Nacional de Ciencias de la Tierra\n",
    "#### Semestre 2024-II\n",
    "\n",
    "---\n",
    "\n",
    "\n",
    "---\n",
    "<a name='ej-1'></a>\n",
    "### **<font color=\"Navy\">Ejercicio 1 - Balance hidrostático (10 puntos) </font>**\n",
    "\n",
    "1. Resuelva la ecuación hidrostática pero utilizando dos temperaturas diferentes $T_c=300$ K y $T_c=280$ K. Obtenga la soluciones de manera analítica y utilizando diferencias finitas hacia atrás. Para las soluciones numéricas utilice diferentes resoluciones o intervalos $h_z$: $h_z=100$ m, $h_z=500$ m y $h_z=2000$ m. Grafique la solución en el intervalo 0-20000 m.\n",
    "    \n",
    "2. Haga 3 subplots. En los primeros 2 subplots, grafique la solución analítica junto con las 3 soluciones numéricas para cada temperatura por separado, cada temperatura en subplot diferente. En el tercer subplot, grafique la solución analítica y numérica (sólo $h_z=500$ m) de ambas temperaturas. Interprete sus resultados.\n",
    "    \n",
    "3. La escala de altura ($H$) es un parámetro físico que nos dice algo sobre a qué altura la presión atmosférica disminuye exactamente $\\frac{1}{e}$ y que se define como $H=\\frac{R_dT}{g}$ donde $R_d$ es la constante de la atmósfera seca. Calcule la escala de altura de los dos casos anteriores y agregue una línea horizontal a sus gráficas para indicar la escala de altura de cada temperatura. Luego, grafique la escala de altura como función de la temperatura superficial en el intervalo de 273.15 K a 303.15 K y discuta sus resultados. \n",
    "\n",
    "---"
   ]
  },
  {
   "cell_type": "code",
   "execution_count": null,
   "id": "7c926e8c",
   "metadata": {},
   "outputs": [],
   "source": []
  },
  {
   "cell_type": "markdown",
   "id": "6ba2eff6",
   "metadata": {},
   "source": [
    "### **<font color=\"Navy\"> 2. Nunca confíen en el profe. (11) </font>**\n",
    "\n",
    "Durante toda la clase, el profe dijo que Budyko utilizó una parametrización de radiación saliente de onda larga (OLR) como $\\sigma \\epsilon T_s^4$ y esto no es cierto. Budyko, en realidad, utilizó la siguiente ecuación para describir la OLR:\n",
    "\n",
    "\\begin{align}\n",
    "OLR = a + bT\n",
    "\\end{align}\n",
    " \n",
    "donde $a$ y $b$ son dos coeficientes calculados por Budyko con valores de $a=240$ W m$^{2}$ y $b=2.17$ W m$^{2}$. \n",
    "\n",
    "1. Haga una función para utilizar esta parametrización como función de un arreglo o flotante de temperatura. Grafique esta función y compárela con la que manejamos en clase como parametrización de Budyko (utilizando un valor de $\\epsilon=0.75$) y la parametrización de OLR de Sellers. \n",
    "\n",
    "2. Haga una simulación del modelo de Budyko utilizando esta parametrización y compare los resultados de la simulación con los de la parametrización original.  Utilice el número de gráficas que usted considere suficiente. \n",
    "\n",
    "3. Explique las diferencias en el comportamiento de la OLR y de la temperatura resultante que encuentra entre la parametrización que usamos en clase y esta versión original de Budyko. \n"
   ]
  },
  {
   "cell_type": "markdown",
   "id": "054a9185",
   "metadata": {},
   "source": [
    "### **<font color=\"Navy\"> 3. Escapando de la Snowball (10) </font>**\n",
    "\n",
    "Suponga que la Tierra está completamente congelada, con temperatura de 262 K exactamente en todas las latitudes, y que la constante solar ha disminuido 5\\% con respecto a su valor actual. \n",
    "\n",
    "1. Realice simulaciones con el modelo de Budyko y el modelo de Sellers modificando los parámetros de cada modelo para conseguir que al final de la simulación toda la Tierra quede descongelada.\n",
    "\n",
    "Para el modelo de Budyko, el valor de emisividad no puede ser menor a 0.4, el albedo del hielo no puede ser menor a $0.66$ y el albedo del agua líquida no puede ser menor a $0.1$.\n",
    "\n",
    "2. Explique físicamente cómo es que sus parámetros logran descongelar todo el planeta. ¿Es difícil lograr estos procesos para descongelarlo en su modelo? ¿Por qué?\n",
    "\n"
   ]
  },
  {
   "cell_type": "code",
   "execution_count": null,
   "id": "7a5953f7",
   "metadata": {},
   "outputs": [],
   "source": []
  },
  {
   "cell_type": "markdown",
   "id": "9211a3ab",
   "metadata": {},
   "source": [
    "### **<font color=\"Navy\"> 4. Oscilaciones inerciales (11) </font>**\n",
    "\n",
    "Aunque no lo vimos, existe una solución analítica a las ecuaciones de las oscilaciones inerciales:\n",
    "\n",
    "\\begin{align}\n",
    "\\frac{du}{dt}-fv=0\n",
    "\\end{align}\n",
    "\n",
    "\\begin{align}\n",
    "\\frac{dv}{dt}+fu=0\n",
    "\\end{align}\n",
    "\n",
    "que se puede escribir como $u(t)=U \\,sen(ft)$ y $v(t)=U\\,cos(ft)$ donde $U$ es la velocidad de la condición inicial $(u_0,v_0)=(U,0)$. \n",
    "\n",
    "- Para una condición inicial y parámetro $f$ de su elección, calcule la solución analítica y la solución numérica utilizando el método de diferencias finitas centradas, hacia adelante, y el método de Runge-Kutta de 4to orden para $h=0.05$.\n",
    "\n",
    "- El error cuadrático medio (MSE, por sus siglas en inglés) mide qué tan parecida es una distribución comparada con otra. Su fórmula es:\n",
    "\n",
    "    \\begin{align}\n",
    "    MSE=\\frac{1}{N}\\sum_{i=1}^{N} (Y_i-\\hat{Y}_i)^2\n",
    "    \\end{align}\n",
    " donde $\\hat{Y_i}$ es el valor de Y que consideramos como verdadero, una observación o un valor calculado analíticamente y $Y_i$ es un pronóstico o valor estimado. \n",
    " \n",
    "- Calcule el error cuadrático promedio de las 3 estimaciones para el $h$ utilizado anteriormente. \n",
    "- Grafique el error cuadrático promedio como función de $h$ para las 3 estimaciones. Para esto, repita las soluciones anteriores pero usando una arreglo de $h$ desde 0.01 hasta 0.5 en saltos de 0.025. "
   ]
  },
  {
   "cell_type": "code",
   "execution_count": null,
   "id": "a9fa203f",
   "metadata": {},
   "outputs": [],
   "source": []
  },
  {
   "cell_type": "markdown",
   "id": "1c554854",
   "metadata": {},
   "source": [
    "### **<font color=\"Navy\"> 5. Clausius y Clapeyron viajan a Titán (12) </font>**\n",
    "\n",
    "En clase resolvimos la ecuación de Clausius Clapeyron para condiciones terrestres. Titán, la luna más grande de Saturno, es uno de los satélites con una atmósfera más activa. Especialmente, tiene un ciclo de metano parecido hasta cierto punto con el ciclo del agua terrestre. Esto quiere decir que el proceso de condensación ocurre frecuentemente en este satélite, sólo que con el metano.\n",
    "\n",
    "- Resuelva la ecuación de Clausius Clapeyron, de manera analítica para el caso de Titán. Considere que $R_{CH_4}=518.3$ J kg K$^{-1}$ y $L=510 kJ/kg$. Considere que la condición inicial es que la presión de saturación de vapor a 25$^\\circ$C es de 621.2 Pa. \n",
    "- Resuelva la ecuación ahora numéricamente utilizando diferencias finitas hacia adelante y el método de Runge-Kutta. Note bien que la temperatura superficial en Titán es de alrededor de 100 K y el metano se congela en un punto similar de temperatura. \n",
    "- Grafique sus soluciones en el intervalo de 298.15 a 100 K.\n",
    "- Utilice datos observados y bibliografía para explicar por qué la ecuación de CC nos ayuda a entender los procesos que ocurren en Titán.\n"
   ]
  },
  {
   "cell_type": "code",
   "execution_count": null,
   "id": "c2b49b26",
   "metadata": {},
   "outputs": [],
   "source": []
  },
  {
   "cell_type": "markdown",
   "id": "78a0a59a",
   "metadata": {},
   "source": [
    "### **<font color=\"Navy\"> 6. Budyko versus Sellers (16) </font>**\n",
    "\n",
    "En clase vimos cómo utilizar la clase Budyko_Sellers para generar simulaciones con el modelo de Budyko o el de Sellers. Varios comentarios inmediatos fueron dirigidos a comparar las diferencias entre las parametrizaciones y los resultados. ¿Qué versión es mejor? ¿Qué modelo es más frío? fueron algunas de las preguntas que nos hicimos pero que no tuvimos tiempo de analizar al punto de llegar a una conclusión contundente. \n",
    "\n",
    "- En este ejercicio usted buscará contrastar los dos modelos a través de correr simulaciones y analizar los resultados con el objetivo de contestar las siguientes preguntas:\n",
    "\n",
    "    - ¿Qué modelo es más frío en los polos? \n",
    "    - ¿Qué modelo tiene un transporte más físicamente consistente?\n",
    "    - ¿Qué modelo tiene una retroalimentación por hielo-albedo más fuerte?\n",
    "    - ¿Qué modelo es más realista?\n",
    "    \n",
    "- Utilice tantos experimentos diferentes y variados como se le puedan ocurrir para poder fundamentar sus respuestas con evidencia. Ilustre todos sus resultados con gráficas del tipo que usted considere conveniente. Exponga con claridad sus argumentos utilizando todo lo que sabe de cada parametrización y proceso. La respuesta más completa y convincente se llevará 4 puntos extra.\n",
    "\n",
    "Nota: Es evidente que para este ejercicio tiene que utilizar ambos modelos con transporte. Por lo menos en un inicio.\n",
    "\n",
    "\n",
    "\n"
   ]
  },
  {
   "cell_type": "code",
   "execution_count": null,
   "id": "d6b00e6c",
   "metadata": {},
   "outputs": [],
   "source": []
  },
  {
   "cell_type": "markdown",
   "id": "291221f4",
   "metadata": {},
   "source": [
    "### **<font color=\"Navy\"> 7. La línea del hielo (12) </font>**\n",
    "\n",
    "- Escriba una función que calcule la latitud mínima a la que una simulación del tipo Budyko Sellers tiene hielo. Por ejemplo, si una de sus simulaciones muestra que la Tierra está congelada en todos los puntos hacia los polos más allá de los 45$^\\circ$S o N, esta función debe regresar el valor de 45$^\\circ$ como resultado. \n",
    "\n",
    "- Utilice 2 de sus simulaciones que considere que tuvieron un cambio más interesante desde las condiciones iniciales hasta la solución final y muestre una serie de tiempo de la línea del hielo calculada con la función que hizo en el inciso anterior para sus dos simulaciones. \n",
    "\n",
    "- Explique qué es lo que sucede con la latitud a la que se congela el planeta en sus dos simulaciones y discuta las diferencias entre sus dos experimentos.\n",
    "\n",
    "\n"
   ]
  },
  {
   "cell_type": "code",
   "execution_count": null,
   "id": "c02c648c",
   "metadata": {},
   "outputs": [],
   "source": []
  },
  {
   "cell_type": "markdown",
   "id": "53979727",
   "metadata": {},
   "source": [
    "### **<font color=\"Navy\"> 8. La temperatura especial (11 puntos)  </font>**\n",
    "\n",
    "En clase vimos que el modelo de Budyko tiene un rango de temperatura intermedio entre el estado congelado y el líquido, que le llamamos agua-hielo. En este rango del agua-hielo vimos en el Notebook 3.2 y 3.3 que existe un equilibrio inestable. Es decir, para cierta temperatura dentro del intervalo $T_1<T<T_2$ las soluciones divergían hacia el estado congelado y para temperaturas ligeramente más altas las soluciones iban hacia el estado de agua líquida. Esto quiere decir que, en principio, debe existir una temperatura especial que divide a las soluciones que se congelan de las que se descongelan por completo. \n",
    "\n",
    "1. Muestre que esta temperatura especial ($T_{esp}$) es la que satisface, en el modelo de Budyko sin transporte, que:\n",
    "\n",
    "\\begin{align}\n",
    "\\bigg(\\frac{\\overline{Q}(1-\\alpha(T_{esp})}{4}-\\epsilon\\sigma T_{esp}^4\\bigg)=0\n",
    "\\end{align}\n",
    "\n",
    "y explique por qué es esta ecuación la que determina esta temperatura especial. \n",
    " \n",
    "2. Calcule el valor de la temperatura especial para un caso del modelo de Budyko. Es decir, especifique sus parámetros de la ecuación anterior y encuentre $T_{esp}$. Tal vez le sirva buscar información sobre el método de Newton. \n",
    "\n",
    "3. Grafique el valor de la temperatura especial como función de la diferencia entre los albedos de la parametrización de Budyko $\\Delta \\alpha=\\alpha_1-\\alpha_2$ en el intervalo de $\\Delta \\alpha=[0,0.3]$ alrededor de un valor central de 0.5. Ver el notebook 3.3 y los códigos para los diagramas de estabilidad. \n",
    "\n",
    "Utilice un valor de insolación de 500 W m$^{-2}$, $\\epsilon=0.8$ y $T_1=-5$ y $T_2=5$. \n",
    "\n",
    "4. Explique entonces el significado de la temperatura especial en el contexto del modelo de Budyko. En particular, explique la relación entre este parámetro, el proceso de bifurcación que existe en el modelo y la parametrización de albedo."
   ]
  },
  {
   "cell_type": "code",
   "execution_count": null,
   "id": "c1b8a4c9",
   "metadata": {},
   "outputs": [],
   "source": []
  },
  {
   "cell_type": "markdown",
   "id": "ba8a415e",
   "metadata": {},
   "source": [
    "### **<font color=\"Navy\"> 9. El efecto mariposa  </font>**\n",
    "\n",
    "Lea el capítulo 1 del libro \"The primacy of doubt\" de Tim Palmer que se encuentra en el moodle y vea el vídeo de ponencia de Kerry Emanuel https://youtu.be/FvWeK_PfDE4?si=CE9eOHmWfzUT6oAj para contestar:\n",
    "\n",
    "1. ¿Cuál es el primer encuentro de la ciencia con la idea de que un sistema físico no puede ser predecido después de largos períodos de tiempo?\n",
    "\n",
    "2. ¿Qué pregunta fundamental estaba tratando de resolver Lorenz cuándo descubre el caos? ¿Cuál fue la primera pista que obtuvo Lorenz que lo llevaría a su descubrimiento? ¿Qué implicaciones tiene en la actualidad la teoría de Lorenz para el problema original que quería resolver?\n",
    "\n",
    "3. ¿Cuáles son las características fundamentales de las ecuaciones de Lorenz que le permitieron usarlas para explicar sus ideas sobre los sistemas dinámicos?\n",
    "\n",
    "4. ¿Qué es el determinismo y cómo fue afectado por los descubrimientos de Lorenz? Enumere ejemplos de sistemas deterministas en su vida diaria o en su campo de estudio y contrastélos con sistemas caóticos. ¿Cuál es una propiedad necesaria de un sistema dinámico que exhibe caos, según Palmer? \n",
    "\n",
    "5. Explique un ejemplo de un sistema caótico en su vida diaria. Elabore en cómo su ejemplo muestra la propiedad de ser sensible a las condiciones iniciales y sea exhaustivo en relacionar el resultado con el \"efecto mariposa\" y la no-linearidad del sistema.\n",
    "\n"
   ]
  },
  {
   "cell_type": "code",
   "execution_count": null,
   "id": "946b4e0b",
   "metadata": {},
   "outputs": [],
   "source": []
  },
  {
   "cell_type": "markdown",
   "id": "cd989e32",
   "metadata": {},
   "source": [
    "### **<font color=\"Navy\"> Extra 1: Lorenz (6 puntos) </font>**\n",
    "\n",
    "- Considere el modelo de Lorenz y las condiciones:\n",
    "\n",
    "    - Tiempo de simulación 25 s. \n",
    "    \n",
    "    - $x_0=1$, $y_0=1$, $z_0=1$.\n",
    "    \n",
    "    - $\\sigma=10$, $\\rho=28$, $\\beta=\\frac{8}{3}$.\n",
    "    \n",
    "Haga experimentos para mostrar la más mínima variación de las condiciones iniciales que sea capaz de producir resultados sustancial y evidentemente diferentes al final de simulación. Es decir, en clase variamos las condiciones iniciales de 2 variables $y$ y $z$ por un valor de 0.01 y mostramos que $x(t)$ se veía diferente. ¿Hasta qué valor mínimo de cambio en las condiciones iniciales es usted capaz de producir una simulación con resultados diferentes?\n",
    "\n",
    "\n"
   ]
  },
  {
   "cell_type": "code",
   "execution_count": null,
   "id": "8a9f6fec",
   "metadata": {},
   "outputs": [],
   "source": []
  },
  {
   "cell_type": "markdown",
   "id": "b6e82536",
   "metadata": {},
   "source": [
    "### **<font color=\"Navy\"> Extra 2: Europa (7 puntos) </font>**\n",
    "\n",
    "- Considere las condiciones de la luna Europa como distancia Sol-Tierra y constante solar. \n",
    "\n",
    "1. Haga experimentos con el modelo de Budyko y el de Sellers en sus formulaciones más estándar (con los parámetros por default) pero ajustados al caso de Europa. ¿Los resultados muestran un cuerpo celeste congelado?\n",
    "\n",
    "2. Ajuste los parámetros lo más que pueda, dada su investigación de esta luna, para hacerlos más realistas. Esto puede ser el parámetro de emisividad o el parámetro de transporte por ejemplo. Explique cómo cambian sus soluciones de temperatura como resultado del cambio en los parámetros y si se acercan más o menos a la realidad. \n",
    "\n",
    "\n"
   ]
  },
  {
   "cell_type": "code",
   "execution_count": null,
   "id": "36cc97e5",
   "metadata": {},
   "outputs": [],
   "source": []
  },
  {
   "cell_type": "markdown",
   "id": "a7c14012",
   "metadata": {},
   "source": [
    "### **<font color=\"Navy\"> Extra 3: Mucho transporte (7 puntos) </font>**\n",
    "\n",
    "- Considere el modelo de Budyko en su formulación original con transporte donde $\\epsilon=0.8$, $\\alpha_1=0.7$ y $\\alpha_2=0.15$.\n",
    "\n",
    "1. Haga experimentos con el modelo de Budyko modificando el valor del coeficiente de transporte. Muestre que hay un valor umbrar a partir del cuál es posible llegar a un estado de Snowball con la Tierra congelada por doquier. \n",
    "\n",
    "2. Explique, utilizando lo que sabe de los procesos de transporte atmosféricos y océanicos, el modelo de Budyko, y la parametrización de albedo para explicar por qué sucede que, con mucho transporte, se congela la Tierra."
   ]
  },
  {
   "cell_type": "code",
   "execution_count": null,
   "id": "d4c61392",
   "metadata": {},
   "outputs": [],
   "source": []
  }
 ],
 "metadata": {
  "kernelspec": {
   "display_name": "Python 3 (ipykernel)",
   "language": "python",
   "name": "python3"
  },
  "language_info": {
   "codemirror_mode": {
    "name": "ipython",
    "version": 3
   },
   "file_extension": ".py",
   "mimetype": "text/x-python",
   "name": "python",
   "nbconvert_exporter": "python",
   "pygments_lexer": "ipython3",
   "version": "3.10.9"
  }
 },
 "nbformat": 4,
 "nbformat_minor": 5
}
